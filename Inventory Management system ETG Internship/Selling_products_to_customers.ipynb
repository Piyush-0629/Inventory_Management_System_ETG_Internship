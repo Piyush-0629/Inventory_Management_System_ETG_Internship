{
  "nbformat": 4,
  "nbformat_minor": 2,
  "metadata": {
    "colab": {
      "name": "Selling_products_to_customers.ipynb",
      "provenance": []
    },
    "kernelspec": {
      "name": "python3",
      "display_name": "Python 3.9.2 64-bit"
    },
    "language_info": {
      "name": "python",
      "version": "3.9.2"
    },
    "interpreter": {
      "hash": "63fd5069d213b44bf678585dea6b12cceca9941eaf7f819626cde1f2670de90d"
    }
  },
  "cells": [
    {
      "cell_type": "markdown",
      "source": [
        "#Reading data and generating bill\n"
      ],
      "metadata": {
        "id": "R1B8ARMfyUJu"
      }
    },
    {
      "cell_type": "code",
      "execution_count": null,
      "source": [
        "import json\r\n",
        "\r\n",
        "fd = open(\"products.json\",'r')\r\n",
        "r = fd.read()\r\n",
        "fd.close()\r\n",
        "\r\n",
        "products = json.loads(r)\r\n",
        "\r\n",
        "\r\n",
        "\r\n",
        "print(\"Welcome to shop\")\r\n",
        "\r\n",
        "\r\n",
        "ui_prod = input(\"Enter the product Id: \")\r\n",
        "ui_quan = int(input(\"Enter the quantity of the Product: \"))\r\n",
        "\r\n",
        "for i in products.keys():\r\n",
        "    while ui_prod == i:\r\n",
        "        if ui_quan <= products[i]['quan']:\r\n",
        "            print(\"****************************************\")\r\n",
        "            print(\"             product:\",products[ui_prod]['name'])\r\n",
        "            print(\"               price:\",products[ui_prod]['price'])\r\n",
        "            print(\"         Expiry date:\",products[ui_prod]['expiry'])\r\n",
        "            print(\" Manufacturing Brand:\",products[ui_prod]['brand'])\r\n",
        "            print(\"                                           \")\r\n",
        "            print(\"****************************************\")\r\n",
        "            print(\"----------BILLING DETAILS:---------- \")\r\n",
        "            print(\"Total Amount: \",products[ui_prod]['price']*ui_quan) \r\n",
        "            print(\"Enjoy Your Day\")\r\n",
        "            print(\"Thank You. Visit Again\")\r\n",
        "            print(\"**********************************\")\r\n",
        "            print(\"                                           \")\r\n",
        "            products[ui_prod][\"quan\"] = products[ui_prod][\"quan\"] - ui_quan\r\n",
        "        else:\r\n",
        "            print(\"Sorry. Stock of product you enterd is: \",products[ui_prod]['quan'],\"\\nPlease accept our apologies for this inconvenience\")\r\n",
        "        break\r\n",
        "if ui_prod not in products.keys():\r\n",
        "   print(\"Sorry. No product found for ID: \",ui_prod,\"\\Please enter valid product ID\")\r\n",
        "    \r\n",
        "    \r\n",
        "js = json.dumps(products)\r\n",
        "\r\n",
        "fd = open(\"products.json\",'w')\r\n",
        "fd.write(js)\r\n",
        "fd.close()\r\n",
        "\r\n"
      ],
      "outputs": [
        {
          "output_type": "stream",
          "name": "stdout",
          "text": [
            "Welcome to shop\n",
            "Enter the product Id: 1005\n",
            "Enter the quantity of the Product: 15\n",
            "****************************************\n",
            "             product: Quaker Oats\n",
            "               price: 285\n",
            "         Expiry date: 30 oct 2022\n",
            " Manufacturing Brand: Quaker\n",
            "                                           \n",
            "****************************************\n",
            "----------BILLING DETAILS:---------- \n",
            "Total Amount:  4275\n",
            "Enjoy Your Day\n",
            "Thank You. Visit Again\n",
            "**********************************\n",
            "                                           \n"
          ]
        }
      ],
      "metadata": {
        "colab": {
          "base_uri": "https://localhost:8080/"
        },
        "id": "-jSDp2R3nNNl",
        "outputId": "3160d7e6-60d8-4b60-9d5e-b33f3f127bd6"
      }
    },
    {
      "cell_type": "markdown",
      "source": [
        "#All about sales.json \n"
      ],
      "metadata": {
        "id": "cYTLcut8yiKf"
      }
    },
    {
      "cell_type": "code",
      "execution_count": 36,
      "source": [
        "## The sold items information is stored on sales.json\n",
        "fd = open(\"sales.json\",'r')\n",
        "trans = fd.read()\n",
        "fd.close()\n",
        "\n",
        "sales = json.loads(trans)\n",
        "\n",
        "num = len(sales)+1\n",
        "\n",
        "num = len(sales)+1\n",
        "\n",
        "sales[num] = {'prod':ui_prod, 'quan' : ui_quan, 'amount': products[ui_prod]['price'] * ui_quan}\n",
        "sale = json.dumps(sales)\n",
        "\n",
        "fd = open(\"sales.json\",'w')\n",
        "fd.write(sale)\n",
        "fd.close()\n",
        "\n",
        "\n"
      ],
      "outputs": [],
      "metadata": {
        "id": "77QIL7UAo9Vh"
      }
    },
    {
      "cell_type": "markdown",
      "source": [
        "#updated products dictionary"
      ],
      "metadata": {
        "id": "kWzD8bv6yqe6"
      }
    },
    {
      "cell_type": "code",
      "execution_count": 37,
      "source": [
        "products\n"
      ],
      "outputs": [
        {
          "output_type": "execute_result",
          "data": {
            "text/plain": [
              "{'1001': {'brand': 'Pepsi',\n",
              "  'expiry': '20 oct 2023',\n",
              "  'name': 'Pepsi Can',\n",
              "  'price': 153,\n",
              "  'quan': 40},\n",
              " '1002': {'brand': 'Tata',\n",
              "  'expiry': '12 jan 2022',\n",
              "  'name': 'Tata Salt',\n",
              "  'price': 20,\n",
              "  'quan': 100},\n",
              " '1003': {'brand': 'Tata',\n",
              "  'expiry': '10 mar 2023',\n",
              "  'name': 'Tata Tea ',\n",
              "  'price': 48,\n",
              "  'quan': 145},\n",
              " '1004': {'brand': 'Tata',\n",
              "  'expiry': '23 jun 2023',\n",
              "  'name': 'Turmeric Powder',\n",
              "  'price': 52,\n",
              "  'quan': 122},\n",
              " '1005': {'brand': 'Quaker',\n",
              "  'expiry': '30 oct 2022',\n",
              "  'name': 'Quaker Oats',\n",
              "  'price': 285,\n",
              "  'quan': 15},\n",
              " '1006': {'brand': 'Saffola',\n",
              "  'expiry': '29 jan 2022',\n",
              "  'name': 'Saffola Active',\n",
              "  'price': 207,\n",
              "  'quan': 58},\n",
              " '1007': {'brand': 'Nestle',\n",
              "  'expiry': '31 aug 2022',\n",
              "  'name': 'Kitkat Desert',\n",
              "  'price': 55,\n",
              "  'quan': 59},\n",
              " '1008': {'brand': 'Dark Fantasy',\n",
              "  'expiry': '21 feb 2022',\n",
              "  'name': 'Dark Fantasy ',\n",
              "  'price': 90,\n",
              "  'quan': 90},\n",
              " '1009': {'brand': 'Candyman Fantastik',\n",
              "  'expiry': '28 dec 2021',\n",
              "  'name': 'Candyman Fantasy',\n",
              "  'price': 80,\n",
              "  'quan': 95},\n",
              " '1010': {'brand': 'Lotte',\n",
              "  'expiry': '01 jun 2022',\n",
              "  'name': 'Lotte Choco Pie',\n",
              "  'price': 110,\n",
              "  'quan': 90},\n",
              " '1011': {'brand': 'Britania',\n",
              "  'expiry': '15 jul 2022',\n",
              "  'name': 'Britania  cake',\n",
              "  'price': 120,\n",
              "  'quan': 100},\n",
              " '1012': {'brand': 'Pillsbury',\n",
              "  'expiry': '02 dec 2021',\n",
              "  'name': 'Pillsbury cake',\n",
              "  'price': 90,\n",
              "  'quan': 200},\n",
              " '1013': {'brand': 'Ore0',\n",
              "  'expiry': '30 dec 2021',\n",
              "  'name': 'Oreo Soft Cake',\n",
              "  'price': 249,\n",
              "  'quan': 120},\n",
              " '1014': {'brand': 'Sunfeast',\n",
              "  'expiry': '19 mar 2022',\n",
              "  'name': 'Magic Cashew',\n",
              "  'price': 80,\n",
              "  'quan': 178},\n",
              " '1015': {'brand': 'Cadbury',\n",
              "  'expiry': '19 feb 2022',\n",
              "  'name': 'Oreo chacolate',\n",
              "  'price': 60,\n",
              "  'quan': 181},\n",
              " '1016': {'brand': 'Betty Croker',\n",
              "  'expiry': '15 jan 2022',\n",
              "  'name': 'Betty  Pancake',\n",
              "  'price': 346,\n",
              "  'quan': 190},\n",
              " '1017': {'brand': 'Parle',\n",
              "  'expiry': '13 dec 2011',\n",
              "  'name': 'Parle Original',\n",
              "  'price': 67,\n",
              "  'quan': 140},\n",
              " '1018': {'brand': \"Lay's\",\n",
              "  'expiry': '14 feb 2023',\n",
              "  'name': 'Potato Chips',\n",
              "  'price': 30,\n",
              "  'quan': 450},\n",
              " '1019': {'brand': 'Bingo!',\n",
              "  'expiry': '20 dec 2023',\n",
              "  'name': 'Bingo! Mad Angle',\n",
              "  'price': 25,\n",
              "  'quan': 440},\n",
              " '1020': {'brand': \"Kellog's\",\n",
              "  'expiry': '25 jan 2024',\n",
              "  'name': 'Pringles',\n",
              "  'price': 85,\n",
              "  'quan': 400},\n",
              " '1021': {'brand': \"Dorito's\",\n",
              "  'expiry': '22 jan 2023',\n",
              "  'name': \"Dorito's  Chips\",\n",
              "  'price': 90,\n",
              "  'quan': 360},\n",
              " '1022': {'brand': 'Thums Up',\n",
              "  'expiry': '20 dec 2024',\n",
              "  'name': 'Soft Drink',\n",
              "  'price': 40,\n",
              "  'quan': 60},\n",
              " '1023': {'brand': 'Svami',\n",
              "  'expiry': '20 jun 2023',\n",
              "  'name': 'Soda Water',\n",
              "  'price': 55,\n",
              "  'quan': 70},\n",
              " '1024': {'brand': 'Coca Cola',\n",
              "  'expiry': '22 jul 2023',\n",
              "  'name': 'Coca-Cola',\n",
              "  'price': 65,\n",
              "  'quan': 55},\n",
              " '1025': {'brand': 'Sprite',\n",
              "  'expiry': '20 nov 2023',\n",
              "  'name': 'Sprite Lime ',\n",
              "  'price': 89,\n",
              "  'quan': 40},\n",
              " '1026': {'brand': 'Colgate',\n",
              "  'expiry': '20 jun 2024',\n",
              "  'name': 'Colgate Maxfresh',\n",
              "  'price': 215,\n",
              "  'quan': 55},\n",
              " '1027': {'brand': 'Pepsodent',\n",
              "  'expiry': '15 jul 2022',\n",
              "  'name': 'Pepsodent ',\n",
              "  'price': 300,\n",
              "  'quan': 150},\n",
              " '1028': {'brand': 'DABUR',\n",
              "  'expiry': '10 aug 2024',\n",
              "  'name': 'Dabur Amla Oil',\n",
              "  'price': 247,\n",
              "  'quan': 100},\n",
              " '1029': {'brand': 'Nivea',\n",
              "  'expiry': '31 jul 2022',\n",
              "  'name': 'Men Face Wash',\n",
              "  'price': 149,\n",
              "  'quan': 98},\n",
              " '1030': {'brand': 'Himalaya',\n",
              "  'expiry': '22 may 2022',\n",
              "  'name': 'Himalaya cream',\n",
              "  'price': 104,\n",
              "  'quan': 200}}"
            ]
          },
          "metadata": {},
          "execution_count": 37
        }
      ],
      "metadata": {
        "colab": {
          "base_uri": "https://localhost:8080/"
        },
        "id": "HrkctdjUxEgW",
        "outputId": "e876d896-3ecf-4d36-dbe6-9906ba8fc69b"
      }
    },
    {
      "cell_type": "markdown",
      "source": [
        "#Updated Inventory after selling the Products"
      ],
      "metadata": {
        "id": "puS2rkyxyyXr"
      }
    },
    {
      "cell_type": "code",
      "execution_count": 39,
      "source": [
        "sales = {1 : {'prod':ui_prod, 'quan':ui_quan, 'amount':products[ui_prod]['price']*ui_quan}}\n",
        "sal = json.dumps(sales)\n",
        "\n",
        "fd = open(\"sales.json\",'w')\n",
        "fd.write(sal)\n",
        "fd.close()"
      ],
      "outputs": [],
      "metadata": {
        "id": "rRin4xlTxLFo"
      }
    },
    {
      "cell_type": "code",
      "execution_count": null,
      "source": [],
      "outputs": [],
      "metadata": {
        "id": "sGS1p-H9xQw9"
      }
    },
    {
      "cell_type": "code",
      "execution_count": null,
      "source": [],
      "outputs": [],
      "metadata": {
        "id": "V5kzWhG3xgNo"
      }
    }
  ]
}